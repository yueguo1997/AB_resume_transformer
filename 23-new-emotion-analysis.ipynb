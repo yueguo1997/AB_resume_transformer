{
 "cells": [
  {
   "cell_type": "code",
   "execution_count": 1,
   "id": "ec69b6ff",
   "metadata": {},
   "outputs": [],
   "source": [
    "from transformers import AutoModelForSequenceClassification\n",
    "from transformers import TFAutoModelForSequenceClassification\n",
    "from transformers import AutoTokenizer\n",
    "import numpy as np\n",
    "from scipy.special import softmax\n",
    "import csv\n",
    "import urllib.request\n",
    "import os\n"
   ]
  },
  {
   "cell_type": "code",
   "execution_count": 3,
   "id": "e0aa9ca8",
   "metadata": {},
   "outputs": [],
   "source": [
    "\n",
    "\n",
    "task='sentiment'\n",
    "MODEL = f\"cardiffnlp/twitter-roberta-base-{task}\"\n",
    "\n",
    "tokenizer = AutoTokenizer.from_pretrained(MODEL)\n",
    "# download label mapping\n",
    "labels=[]\n",
    "mapping_link = f\"https://raw.githubusercontent.com/cardiffnlp/tweeteval/main/datasets/{task}/mapping.txt\"\n",
    "with urllib.request.urlopen(mapping_link) as f:\n",
    "    html = f.read().decode('utf-8').split(\"\\n\")\n",
    "    csvreader = csv.reader(html, delimiter='\\t')\n",
    "labels = [row[1] for row in csvreader if len(row) > 1]\n",
    "\n",
    "\n",
    "# PT\n",
    "model = AutoModelForSequenceClassification.from_pretrained(MODEL)\n",
    "model.save_pretrained(MODEL)\n",
    "\n"
   ]
  },
  {
   "cell_type": "code",
   "execution_count": null,
   "id": "854c2f34",
   "metadata": {},
   "outputs": [],
   "source": []
  },
  {
   "cell_type": "code",
   "execution_count": 4,
   "id": "186d28f3",
   "metadata": {},
   "outputs": [
    {
     "name": "stdout",
     "output_type": "stream",
     "text": [
      "1) positive 0.8466\n",
      "2) neutral 0.1458\n",
      "3) negative 0.0076\n"
     ]
    }
   ],
   "source": [
    "text = \"Good night 😊\"\n",
    "\n",
    "encoded_input = tokenizer(text, return_tensors='pt')\n",
    "output = model(**encoded_input)\n",
    "scores = output[0][0].detach().numpy()\n",
    "scores = softmax(scores)\n",
    "\n",
    "ranking = np.argsort(scores)\n",
    "ranking = ranking[::-1]\n",
    "for i in range(scores.shape[0]):\n",
    "    l = labels[ranking[i]]\n",
    "    s = scores[ranking[i]]\n",
    "    print(f\"{i+1}) {l} {np.round(float(s), 4)}\")\n"
   ]
  },
  {
   "cell_type": "code",
   "execution_count": 5,
   "id": "a0beffa1",
   "metadata": {},
   "outputs": [
    {
     "data": {
      "text/plain": [
       "array([0.00760987, 0.14581203, 0.84657794], dtype=float32)"
      ]
     },
     "execution_count": 5,
     "metadata": {},
     "output_type": "execute_result"
    }
   ],
   "source": [
    "scores"
   ]
  },
  {
   "cell_type": "code",
   "execution_count": null,
   "id": "cd08fe7a",
   "metadata": {},
   "outputs": [],
   "source": []
  },
  {
   "cell_type": "code",
   "execution_count": 6,
   "id": "c7ca6bfa",
   "metadata": {},
   "outputs": [],
   "source": [
    "classification = ['Good','Bad','Inter']"
   ]
  },
  {
   "cell_type": "code",
   "execution_count": 7,
   "id": "8d20e80f",
   "metadata": {},
   "outputs": [],
   "source": [
    "home_path = '/home/guoy20/Data/json/'\n",
    "result = {'Good':[],'Bad':[],'Inter':[]}"
   ]
  },
  {
   "cell_type": "code",
   "execution_count": 8,
   "id": "4870e8b4",
   "metadata": {},
   "outputs": [],
   "source": [
    "\n",
    "for c in classification:\n",
    "    class_path = home_path + c\n",
    "    filenames = os.listdir(class_path)\n",
    "    c_class = []\n",
    "    for file in filenames:\n",
    "        file_path = class_path +'/' + file\n",
    "        try:\n",
    "            with open(file_path) as user_file:\n",
    "                file_contents = user_file.read()\n",
    "            list_file = eval(file_contents)\n",
    "            for line in list_file:\n",
    "                text = list(line.values())[0]\n",
    "                encoded_input = tokenizer(text, return_tensors='pt')\n",
    "                output = model(**encoded_input)\n",
    "                scores = output[0][0].detach().numpy()\n",
    "                scores = softmax(scores)\n",
    "                ranking = np.argsort(scores)\n",
    "                ranking = ranking[::-1]\n",
    "                l = labels[ranking[0]]\n",
    "                s = scores[ranking[0]]\n",
    "                f = {l:s}                         \n",
    "            c_class.append(f)\n",
    "            \n",
    "        except:\n",
    "            continue\n",
    "        result[c] = c_class"
   ]
  },
  {
   "cell_type": "code",
   "execution_count": 9,
   "id": "14bb7554",
   "metadata": {},
   "outputs": [
    {
     "data": {
      "text/plain": [
       "{'Good': [{'neutral': 0.8076156},\n",
       "  {'neutral': 0.8076156},\n",
       "  {'neutral': 0.8076156},\n",
       "  {'neutral': 0.8076156},\n",
       "  {'neutral': 0.8076156},\n",
       "  {'neutral': 0.8076156},\n",
       "  {'neutral': 0.8076156},\n",
       "  {'neutral': 0.8076156},\n",
       "  {'neutral': 0.8076156},\n",
       "  {'neutral': 0.8076156},\n",
       "  {'neutral': 0.8076156},\n",
       "  {'neutral': 0.8076156},\n",
       "  {'neutral': 0.8076156},\n",
       "  {'neutral': 0.8076156},\n",
       "  {'neutral': 0.8076156},\n",
       "  {'neutral': 0.8076156},\n",
       "  {'neutral': 0.8076156},\n",
       "  {'neutral': 0.8076156},\n",
       "  {'neutral': 0.8076156},\n",
       "  {'neutral': 0.8076156},\n",
       "  {'neutral': 0.8076156},\n",
       "  {'neutral': 0.8076156},\n",
       "  {'neutral': 0.8076156},\n",
       "  {'neutral': 0.8076156},\n",
       "  {'neutral': 0.8076156}],\n",
       " 'Bad': [{'neutral': 0.8076156},\n",
       "  {'neutral': 0.8076156},\n",
       "  {'neutral': 0.8076156},\n",
       "  {'neutral': 0.8076156},\n",
       "  {'neutral': 0.8076156},\n",
       "  {'neutral': 0.8076156},\n",
       "  {'neutral': 0.8076156},\n",
       "  {'neutral': 0.8076156},\n",
       "  {'neutral': 0.8076156},\n",
       "  {'neutral': 0.8076156},\n",
       "  {'neutral': 0.8076156},\n",
       "  {'neutral': 0.8076156},\n",
       "  {'neutral': 0.8076156},\n",
       "  {'neutral': 0.8076156},\n",
       "  {'neutral': 0.8076156},\n",
       "  {'neutral': 0.8076156},\n",
       "  {'neutral': 0.8076156},\n",
       "  {'neutral': 0.8076156},\n",
       "  {'neutral': 0.8076156},\n",
       "  {'neutral': 0.8076156},\n",
       "  {'neutral': 0.8076156},\n",
       "  {'neutral': 0.8076156},\n",
       "  {'neutral': 0.8076156},\n",
       "  {'neutral': 0.8076156},\n",
       "  {'neutral': 0.8076156},\n",
       "  {'neutral': 0.8076156},\n",
       "  {'neutral': 0.8076156},\n",
       "  {'neutral': 0.8076156},\n",
       "  {'neutral': 0.8076156},\n",
       "  {'neutral': 0.8076156},\n",
       "  {'neutral': 0.8076156},\n",
       "  {'neutral': 0.8076156},\n",
       "  {'neutral': 0.8076156},\n",
       "  {'neutral': 0.8076156},\n",
       "  {'neutral': 0.8076156},\n",
       "  {'neutral': 0.8076156},\n",
       "  {'neutral': 0.8076156},\n",
       "  {'neutral': 0.8076156},\n",
       "  {'neutral': 0.8076156},\n",
       "  {'neutral': 0.8076156},\n",
       "  {'neutral': 0.8076156},\n",
       "  {'neutral': 0.8076156},\n",
       "  {'neutral': 0.8076156},\n",
       "  {'neutral': 0.8076156},\n",
       "  {'neutral': 0.8076156},\n",
       "  {'neutral': 0.8076156},\n",
       "  {'neutral': 0.8076156},\n",
       "  {'neutral': 0.8076156},\n",
       "  {'neutral': 0.8076156}],\n",
       " 'Inter': [{'neutral': 0.8076156},\n",
       "  {'neutral': 0.8076156},\n",
       "  {'neutral': 0.8076156},\n",
       "  {'neutral': 0.8076156},\n",
       "  {'neutral': 0.8076156},\n",
       "  {'neutral': 0.8076156},\n",
       "  {'neutral': 0.8076156},\n",
       "  {'neutral': 0.8076156},\n",
       "  {'neutral': 0.8076156},\n",
       "  {'neutral': 0.8076156},\n",
       "  {'neutral': 0.8076156},\n",
       "  {'neutral': 0.8076156},\n",
       "  {'neutral': 0.8076156}]}"
      ]
     },
     "execution_count": 9,
     "metadata": {},
     "output_type": "execute_result"
    }
   ],
   "source": [
    "result"
   ]
  },
  {
   "cell_type": "code",
   "execution_count": null,
   "id": "53d21cb5",
   "metadata": {},
   "outputs": [],
   "source": []
  },
  {
   "cell_type": "code",
   "execution_count": null,
   "id": "0e8a5075",
   "metadata": {},
   "outputs": [],
   "source": []
  },
  {
   "cell_type": "code",
   "execution_count": null,
   "id": "4071e35a",
   "metadata": {},
   "outputs": [],
   "source": []
  },
  {
   "cell_type": "code",
   "execution_count": null,
   "id": "16aacf31",
   "metadata": {},
   "outputs": [],
   "source": []
  },
  {
   "cell_type": "code",
   "execution_count": null,
   "id": "b563282a",
   "metadata": {},
   "outputs": [],
   "source": []
  }
 ],
 "metadata": {
  "kernelspec": {
   "display_name": "Python 3 (ipykernel)",
   "language": "python",
   "name": "python3"
  },
  "language_info": {
   "codemirror_mode": {
    "name": "ipython",
    "version": 3
   },
   "file_extension": ".py",
   "mimetype": "text/x-python",
   "name": "python",
   "nbconvert_exporter": "python",
   "pygments_lexer": "ipython3",
   "version": "3.9.12"
  }
 },
 "nbformat": 4,
 "nbformat_minor": 5
}
