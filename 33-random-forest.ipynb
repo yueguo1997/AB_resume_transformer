{
 "cells": [
  {
   "cell_type": "code",
   "execution_count": 25,
   "id": "85ee3f35",
   "metadata": {},
   "outputs": [],
   "source": [
    "from sklearn.ensemble import RandomForestClassifier\n",
    "from sklearn.model_selection import train_test_split\n",
    "from sklearn.metrics import accuracy_score\n",
    "import pandas as pd\n",
    "from sklearn.metrics import classification_report"
   ]
  },
  {
   "cell_type": "code",
   "execution_count": 26,
   "id": "3233f357",
   "metadata": {},
   "outputs": [],
   "source": [
    "feature_data = pd.read_csv('/home/guoy20/Data/feature_data.csv')\n",
    "\n",
    "# Split the data into training and testing sets\n",
    "X = feature_data[list(feature_data.columns[2:])]\n",
    "y = feature_data['label']\n",
    "X_train, X_test, y_train, y_test = train_test_split(X, y, test_size=0.3, random_state=42)"
   ]
  },
  {
   "cell_type": "code",
   "execution_count": 27,
   "id": "4635c2cd",
   "metadata": {},
   "outputs": [
    {
     "data": {
      "text/plain": [
       "RandomForestClassifier(random_state=42)"
      ]
     },
     "execution_count": 27,
     "metadata": {},
     "output_type": "execute_result"
    }
   ],
   "source": [
    "model = RandomForestClassifier(n_estimators=100, random_state=42)\n",
    "model.fit(X_train, y_train)"
   ]
  },
  {
   "cell_type": "code",
   "execution_count": 28,
   "id": "657a1ffb",
   "metadata": {},
   "outputs": [],
   "source": [
    "y_pred = model.predict(X_test)"
   ]
  },
  {
   "cell_type": "code",
   "execution_count": 29,
   "id": "642f7719",
   "metadata": {},
   "outputs": [
    {
     "name": "stdout",
     "output_type": "stream",
     "text": [
      "              precision    recall  f1-score   support\n",
      "\n",
      "           0       0.62      0.71      0.67        21\n",
      "           1       0.25      0.11      0.15         9\n",
      "           2       0.36      0.44      0.40         9\n",
      "\n",
      "    accuracy                           0.51        39\n",
      "   macro avg       0.41      0.42      0.41        39\n",
      "weighted avg       0.48      0.51      0.49        39\n",
      "\n"
     ]
    }
   ],
   "source": [
    "report = classification_report(y_test, y_pred)\n",
    "print(report)"
   ]
  },
  {
   "cell_type": "code",
   "execution_count": 31,
   "id": "382bd476",
   "metadata": {},
   "outputs": [
    {
     "data": {
      "text/plain": [
       "[('readability', 0.10497792456876506),\n",
       " ('joy', 0.09419865682298938),\n",
       " ('anger', 0.08890800745621029),\n",
       " ('fear', 0.0869101703668634),\n",
       " ('sales_count', 0.07896348962314574),\n",
       " ('number_count', 0.06349433102371801),\n",
       " ('investment_count', 0.05964582657756062),\n",
       " ('certificates', 0.05020017171419556),\n",
       " ('financial_count', 0.04810384657328142),\n",
       " ('professional_experiences', 0.04392987583869652),\n",
       " ('education', 0.04325849955472653),\n",
       " ('interests', 0.04215640616389419),\n",
       " ('advisor_count', 0.037614156750458795),\n",
       " ('para', 0.030521705763979126),\n",
       " ('summary', 0.02885773650872872),\n",
       " ('contact/name/title', 0.028831798370528607),\n",
       " ('skills', 0.019833057986250527),\n",
       " ('awards', 0.01677569217161139),\n",
       " ('projects', 0.01629428135800426),\n",
       " ('soft_skills', 0.013523954122441464),\n",
       " ('languages', 0.0030004106839503913)]"
      ]
     },
     "execution_count": 31,
     "metadata": {},
     "output_type": "execute_result"
    }
   ],
   "source": [
    "importance = model.feature_importances_\n",
    "result = []\n",
    "\n",
    "for i, v in enumerate(importance):\n",
    "    result.append((X.columns[i], v))\n",
    "result.sort(key = lambda x:x[1],reverse = True)\n",
    "result"
   ]
  },
  {
   "cell_type": "code",
   "execution_count": 32,
   "id": "d7e9a4b7",
   "metadata": {},
   "outputs": [],
   "source": [
    "new_data = feature_data.drop(feature_data[(feature_data['label'] == 1)].index)"
   ]
  },
  {
   "cell_type": "code",
   "execution_count": 33,
   "id": "602ba4e8",
   "metadata": {},
   "outputs": [],
   "source": [
    "new_data.loc[new_data['label']==2, 'label'] = 1"
   ]
  },
  {
   "cell_type": "code",
   "execution_count": 34,
   "id": "9d2be1bb",
   "metadata": {},
   "outputs": [],
   "source": [
    "X = new_data[list(new_data.columns[2:])]\n",
    "y = new_data['label']\n",
    "X_train, X_test, y_train, y_test = train_test_split(X, y, test_size=0.3, random_state=42)"
   ]
  },
  {
   "cell_type": "code",
   "execution_count": 35,
   "id": "90e9e4be",
   "metadata": {},
   "outputs": [
    {
     "data": {
      "text/plain": [
       "RandomForestClassifier(random_state=42)"
      ]
     },
     "execution_count": 35,
     "metadata": {},
     "output_type": "execute_result"
    }
   ],
   "source": [
    "model = RandomForestClassifier(n_estimators=100, random_state=42)\n",
    "model.fit(X_train, y_train)"
   ]
  },
  {
   "cell_type": "code",
   "execution_count": 36,
   "id": "f083ed64",
   "metadata": {},
   "outputs": [],
   "source": [
    "y_pred = model.predict(X_test)"
   ]
  },
  {
   "cell_type": "code",
   "execution_count": 37,
   "id": "33152596",
   "metadata": {},
   "outputs": [
    {
     "name": "stdout",
     "output_type": "stream",
     "text": [
      "              precision    recall  f1-score   support\n",
      "\n",
      "           0       0.74      0.81      0.77        21\n",
      "           1       0.56      0.45      0.50        11\n",
      "\n",
      "    accuracy                           0.69        32\n",
      "   macro avg       0.65      0.63      0.64        32\n",
      "weighted avg       0.68      0.69      0.68        32\n",
      "\n"
     ]
    }
   ],
   "source": [
    "report = classification_report(y_test, y_pred)\n",
    "print(report)"
   ]
  },
  {
   "cell_type": "code",
   "execution_count": 38,
   "id": "0515b76c",
   "metadata": {},
   "outputs": [
    {
     "data": {
      "text/plain": [
       "[('readability', 0.14776202887890003),\n",
       " ('joy', 0.11341721083931441),\n",
       " ('fear', 0.09344675272371322),\n",
       " ('number_count', 0.08600172890959913),\n",
       " ('anger', 0.06819856209458992),\n",
       " ('investment_count', 0.05477788275934925),\n",
       " ('interests', 0.05229172516080596),\n",
       " ('sales_count', 0.04442731561706765),\n",
       " ('education', 0.04418788884231767),\n",
       " ('professional_experiences', 0.04253149051625854),\n",
       " ('certificates', 0.0409668131167647),\n",
       " ('financial_count', 0.0377424557896945),\n",
       " ('advisor_count', 0.03771588659965718),\n",
       " ('contact/name/title', 0.033325741564739546),\n",
       " ('para', 0.02795822338749276),\n",
       " ('summary', 0.025781501768985183),\n",
       " ('skills', 0.0173264127615153),\n",
       " ('projects', 0.011239441345819777),\n",
       " ('awards', 0.010061163951675419),\n",
       " ('soft_skills', 0.008618608713612738),\n",
       " ('languages', 0.0022211646581271373)]"
      ]
     },
     "execution_count": 38,
     "metadata": {},
     "output_type": "execute_result"
    }
   ],
   "source": [
    "importance = model.feature_importances_\n",
    "result = []\n",
    "\n",
    "for i, v in enumerate(importance):\n",
    "    result.append((X.columns[i], v))\n",
    "result.sort(key = lambda x:x[1],reverse = True)\n",
    "result"
   ]
  },
  {
   "cell_type": "code",
   "execution_count": null,
   "id": "8a601695",
   "metadata": {},
   "outputs": [],
   "source": []
  }
 ],
 "metadata": {
  "kernelspec": {
   "display_name": "Python 3 (ipykernel)",
   "language": "python",
   "name": "python3"
  },
  "language_info": {
   "codemirror_mode": {
    "name": "ipython",
    "version": 3
   },
   "file_extension": ".py",
   "mimetype": "text/x-python",
   "name": "python",
   "nbconvert_exporter": "python",
   "pygments_lexer": "ipython3",
   "version": "3.9.12"
  }
 },
 "nbformat": 4,
 "nbformat_minor": 5
}
