{
 "cells": [
  {
   "cell_type": "code",
   "execution_count": 35,
   "id": "949e72d6",
   "metadata": {},
   "outputs": [],
   "source": [
    "from sklearn.linear_model import LogisticRegression\n",
    "from sklearn.model_selection import train_test_split\n",
    "from sklearn.metrics import accuracy_score\n",
    "import pandas as pd\n",
    "from sklearn.metrics import classification_report\n",
    "import numpy as np"
   ]
  },
  {
   "cell_type": "code",
   "execution_count": 36,
   "id": "fa4924d6",
   "metadata": {},
   "outputs": [],
   "source": [
    "feature_data = pd.read_csv('/home/guoy20/Data/feature_data.csv')"
   ]
  },
  {
   "cell_type": "code",
   "execution_count": 37,
   "id": "398d060f",
   "metadata": {},
   "outputs": [],
   "source": [
    "X = feature_data[list(feature_data.columns[2:])]\n",
    "y = feature_data['label']\n",
    "X_train, X_test, y_train, y_test = train_test_split(X, y, test_size=0.3, random_state=42)"
   ]
  },
  {
   "cell_type": "code",
   "execution_count": 38,
   "id": "9f5f79db",
   "metadata": {},
   "outputs": [
    {
     "name": "stderr",
     "output_type": "stream",
     "text": [
      "/accre/arch/easybuild/software/BinDist/Anaconda3/2022.05/lib/python3.9/site-packages/sklearn/linear_model/_logistic.py:814: ConvergenceWarning: lbfgs failed to converge (status=1):\n",
      "STOP: TOTAL NO. of ITERATIONS REACHED LIMIT.\n",
      "\n",
      "Increase the number of iterations (max_iter) or scale the data as shown in:\n",
      "    https://scikit-learn.org/stable/modules/preprocessing.html\n",
      "Please also refer to the documentation for alternative solver options:\n",
      "    https://scikit-learn.org/stable/modules/linear_model.html#logistic-regression\n",
      "  n_iter_i = _check_optimize_result(\n"
     ]
    },
    {
     "data": {
      "text/plain": [
       "LogisticRegression()"
      ]
     },
     "execution_count": 38,
     "metadata": {},
     "output_type": "execute_result"
    }
   ],
   "source": [
    "model = LogisticRegression()\n",
    "model.fit(X_train, y_train)"
   ]
  },
  {
   "cell_type": "code",
   "execution_count": 39,
   "id": "3ffc5dde",
   "metadata": {},
   "outputs": [],
   "source": [
    "y_pred = model.predict(X_test)"
   ]
  },
  {
   "cell_type": "code",
   "execution_count": 40,
   "id": "9661e2f8",
   "metadata": {},
   "outputs": [
    {
     "name": "stdout",
     "output_type": "stream",
     "text": [
      "              precision    recall  f1-score   support\n",
      "\n",
      "           0       0.64      0.76      0.70        21\n",
      "           1       0.60      0.33      0.43         9\n",
      "           2       0.33      0.33      0.33         9\n",
      "\n",
      "    accuracy                           0.56        39\n",
      "   macro avg       0.52      0.48      0.49        39\n",
      "weighted avg       0.56      0.56      0.55        39\n",
      "\n"
     ]
    }
   ],
   "source": [
    "report = classification_report(y_test, y_pred)\n",
    "print(report)"
   ]
  },
  {
   "cell_type": "code",
   "execution_count": 41,
   "id": "fce530b9",
   "metadata": {},
   "outputs": [
    {
     "data": {
      "text/plain": [
       "[('professional_experiences', 0.2709740726557299),\n",
       " ('summary', 0.22771360742264704),\n",
       " ('interests', 0.16791154962450733),\n",
       " ('fear', 0.1287426560120418),\n",
       " ('joy', 0.1128621927714023),\n",
       " ('anger', 0.10777758857321178),\n",
       " ('para', 0.09582871042140935),\n",
       " ('contact/name/title', 0.09335457878500823),\n",
       " ('investment_count', 0.0773427904530248),\n",
       " ('certificates', 0.041525313093106274),\n",
       " ('sales_count', 0.039742525402447604),\n",
       " ('advisor_count', 0.03925377377348042),\n",
       " ('awards', 0.030362365918959612),\n",
       " ('financial_count', 0.02308298501168284),\n",
       " ('soft_skills', 0.019342886988147633),\n",
       " ('readability', 0.01822408283853893),\n",
       " ('projects', 0.012276292728854365),\n",
       " ('education', 0.01015473427195879),\n",
       " ('skills', 0.0070028528378370935),\n",
       " ('number_count', 0.004530119333669618),\n",
       " ('languages', 0.00216715801925147)]"
      ]
     },
     "execution_count": 41,
     "metadata": {},
     "output_type": "execute_result"
    }
   ],
   "source": [
    "importance = np.abs(model.coef_[0])\n",
    "result = []\n",
    "\n",
    "for i, v in enumerate(importance):\n",
    "    result.append((X.columns[i], v))\n",
    "result.sort(key = lambda x:x[1],reverse = True)\n",
    "result"
   ]
  },
  {
   "cell_type": "code",
   "execution_count": 25,
   "id": "ef4fcd8c",
   "metadata": {},
   "outputs": [],
   "source": [
    "new_data = feature_data.drop(feature_data[(feature_data['label'] == 1)].index)\n",
    "new_data.loc[new_data['label']==2, 'label'] = 1"
   ]
  },
  {
   "cell_type": "code",
   "execution_count": 26,
   "id": "dd3094be",
   "metadata": {},
   "outputs": [],
   "source": [
    "X = new_data[list(new_data.columns[2:])]\n",
    "y = new_data['label']\n",
    "X_train, X_test, y_train, y_test = train_test_split(X, y, test_size=0.3, random_state=42)"
   ]
  },
  {
   "cell_type": "code",
   "execution_count": 27,
   "id": "1046b4e0",
   "metadata": {},
   "outputs": [
    {
     "name": "stderr",
     "output_type": "stream",
     "text": [
      "/accre/arch/easybuild/software/BinDist/Anaconda3/2022.05/lib/python3.9/site-packages/sklearn/linear_model/_logistic.py:814: ConvergenceWarning: lbfgs failed to converge (status=1):\n",
      "STOP: TOTAL NO. of ITERATIONS REACHED LIMIT.\n",
      "\n",
      "Increase the number of iterations (max_iter) or scale the data as shown in:\n",
      "    https://scikit-learn.org/stable/modules/preprocessing.html\n",
      "Please also refer to the documentation for alternative solver options:\n",
      "    https://scikit-learn.org/stable/modules/linear_model.html#logistic-regression\n",
      "  n_iter_i = _check_optimize_result(\n"
     ]
    },
    {
     "data": {
      "text/plain": [
       "LogisticRegression()"
      ]
     },
     "execution_count": 27,
     "metadata": {},
     "output_type": "execute_result"
    }
   ],
   "source": [
    "model = LogisticRegression()\n",
    "model.fit(X_train, y_train)"
   ]
  },
  {
   "cell_type": "code",
   "execution_count": 28,
   "id": "2bf15b15",
   "metadata": {},
   "outputs": [],
   "source": [
    "y_pred = model.predict(X_test)"
   ]
  },
  {
   "cell_type": "code",
   "execution_count": 29,
   "id": "9bdd0765",
   "metadata": {
    "scrolled": true
   },
   "outputs": [
    {
     "name": "stdout",
     "output_type": "stream",
     "text": [
      "              precision    recall  f1-score   support\n",
      "\n",
      "           0       0.69      0.86      0.77        21\n",
      "           1       0.50      0.27      0.35        11\n",
      "\n",
      "    accuracy                           0.66        32\n",
      "   macro avg       0.60      0.56      0.56        32\n",
      "weighted avg       0.63      0.66      0.62        32\n",
      "\n"
     ]
    }
   ],
   "source": [
    "report = classification_report(y_test, y_pred)\n",
    "print(report)"
   ]
  },
  {
   "cell_type": "code",
   "execution_count": 34,
   "id": "a2593ee5",
   "metadata": {},
   "outputs": [
    {
     "data": {
      "text/plain": [
       "[('joy', 0.8154098975048244),\n",
       " ('fear', 0.49770788757849943),\n",
       " ('anger', 0.3903676329365851),\n",
       " ('professional_experiences', 0.3674956424487811),\n",
       " ('interests', 0.28397455948776473),\n",
       " ('education', 0.27963801420711576),\n",
       " ('contact/name/title', 0.18317673769549708),\n",
       " ('para', 0.16979131936611624),\n",
       " ('summary', 0.15737217475907755),\n",
       " ('certificates', 0.09550902309179635),\n",
       " ('investment_count', 0.09521213297874821),\n",
       " ('advisor_count', 0.06034669174196136),\n",
       " ('skills', 0.05950149509125527),\n",
       " ('awards', 0.03165402628775106),\n",
       " ('projects', 0.029416498873533464),\n",
       " ('soft_skills', 0.02638221291853491),\n",
       " ('sales_count', 0.02605024799929814),\n",
       " ('readability', 0.017320645201523092),\n",
       " ('financial_count', 0.009069170675017143),\n",
       " ('languages', 0.0021920620461274715),\n",
       " ('number_count', 0.0014483494955691712)]"
      ]
     },
     "execution_count": 34,
     "metadata": {},
     "output_type": "execute_result"
    }
   ],
   "source": [
    "importance = np.abs(model.coef_[0])\n",
    "result = []\n",
    "\n",
    "for i, v in enumerate(importance):\n",
    "    result.append((X.columns[i], v))\n",
    "result.sort(key = lambda x:x[1],reverse = True)\n",
    "result"
   ]
  },
  {
   "cell_type": "code",
   "execution_count": null,
   "id": "4910a793",
   "metadata": {},
   "outputs": [],
   "source": []
  }
 ],
 "metadata": {
  "kernelspec": {
   "display_name": "Python 3 (ipykernel)",
   "language": "python",
   "name": "python3"
  },
  "language_info": {
   "codemirror_mode": {
    "name": "ipython",
    "version": 3
   },
   "file_extension": ".py",
   "mimetype": "text/x-python",
   "name": "python",
   "nbconvert_exporter": "python",
   "pygments_lexer": "ipython3",
   "version": "3.9.12"
  }
 },
 "nbformat": 4,
 "nbformat_minor": 5
}
