{
 "cells": [
  {
   "cell_type": "code",
   "execution_count": null,
   "id": "ad150df9",
   "metadata": {},
   "outputs": [],
   "source": [
    "import os\n",
    "import docx\n",
    "import aspose.words as aw\n",
    "import jpype\n",
    "import asposecells\n",
    "jpype.startJVM()"
   ]
  },
  {
   "cell_type": "code",
   "execution_count": 73,
   "id": "afda03b3",
   "metadata": {},
   "outputs": [],
   "source": [
    "\n",
    "from asposecells.api import Workbook, FileFormatType,SaveFormat"
   ]
  },
  {
   "cell_type": "code",
   "execution_count": 79,
   "id": "18ad4762",
   "metadata": {},
   "outputs": [],
   "source": [
    "path = '/home/guoy20/Data'\n",
    "classifications = ['Good','Bad','Inter']"
   ]
  },
  {
   "cell_type": "code",
   "execution_count": 80,
   "id": "fdf755cb",
   "metadata": {
    "scrolled": true
   },
   "outputs": [
    {
     "data": {
      "text/plain": [
       "['55. Hewit, Alex_Resume.docx',\n",
       " '102. Niehaus, Troy_Resume.docx',\n",
       " '109. Poole, Blake - Resume.docx',\n",
       " '144. Weisman,DanielNov18ResumeV2.docx',\n",
       " 'Colby, Jennifer_Resume.docx']"
      ]
     },
     "execution_count": 80,
     "metadata": {},
     "output_type": "execute_result"
    }
   ],
   "source": [
    "finenames_good[:5]"
   ]
  },
  {
   "cell_type": "code",
   "execution_count": 81,
   "id": "6d3aa270",
   "metadata": {},
   "outputs": [],
   "source": [
    "def convert_to_json(file_path,file_name,classification):\n",
    "    '''\n",
    "    convert docx file to json file\n",
    "    '''\n",
    "    #Document docx file\n",
    "    doc = aw.Document(file_path + '/' + classification + '/'+ file_name )\n",
    "    \n",
    "    #get the name without .docx to name the new json file\n",
    "    new_file_name = file_name[:-5]\n",
    "    \n",
    "    #html path\n",
    "    html_path = '/home/guoy20/Data/html' + '/' + classification + '/' + new_file_name + '.html'\n",
    "    \n",
    "    #convert to html file\n",
    "    doc.save(html_path, aw.SaveFormat.HTML)\n",
    "    \n",
    "    #json_path\n",
    "    json_path = '/home/guoy20/Data/json' + '/' + classification + '/' + new_file_name + '.json'\n",
    "    \n",
    "    # convert html to json\n",
    "    book = Workbook(html_path)\n",
    "    book.save(json_path, SaveFormat.JSON)\n",
    "    \n",
    "                      "
   ]
  },
  {
   "cell_type": "code",
   "execution_count": 82,
   "id": "bb8562d7",
   "metadata": {},
   "outputs": [],
   "source": [
    "#go through all the docx\n",
    "for classification in classifications:\n",
    "    finenames = os.listdir(path + '/' + classification)\n",
    "    for filename in finenames:\n",
    "        convert_to_json('/home/guoy20/Data',filename,classification)"
   ]
  },
  {
   "cell_type": "code",
   "execution_count": null,
   "id": "7b6e3bdd",
   "metadata": {},
   "outputs": [],
   "source": []
  }
 ],
 "metadata": {
  "kernelspec": {
   "display_name": "Python 3 (ipykernel)",
   "language": "python",
   "name": "python3"
  },
  "language_info": {
   "codemirror_mode": {
    "name": "ipython",
    "version": 3
   },
   "file_extension": ".py",
   "mimetype": "text/x-python",
   "name": "python",
   "nbconvert_exporter": "python",
   "pygments_lexer": "ipython3",
   "version": "3.9.12"
  }
 },
 "nbformat": 4,
 "nbformat_minor": 5
}
