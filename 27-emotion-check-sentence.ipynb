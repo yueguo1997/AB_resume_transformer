{
 "cells": [
  {
   "cell_type": "code",
   "execution_count": 23,
   "id": "7b3ca1d2",
   "metadata": {},
   "outputs": [
    {
     "name": "stdout",
     "output_type": "stream",
     "text": [
      "huggingface/tokenizers: The current process just got forked, after parallelism has already been used. Disabling parallelism to avoid deadlocks...\n",
      "To disable this warning, you can either:\n",
      "\t- Avoid using `tokenizers` before the fork if possible\n",
      "\t- Explicitly set the environment variable TOKENIZERS_PARALLELISM=(true | false)\n"
     ]
    }
   ],
   "source": [
    "import pandas as pd\n",
    "import os\n",
    "import json\n",
    "import re\n",
    "import torch\n",
    "import string\n"
   ]
  },
  {
   "cell_type": "code",
   "execution_count": 25,
   "id": "1e949f6f",
   "metadata": {},
   "outputs": [],
   "source": [
    "import matplotlib.pyplot as plt"
   ]
  },
  {
   "cell_type": "code",
   "execution_count": 4,
   "id": "759584fb",
   "metadata": {},
   "outputs": [
    {
     "name": "stdout",
     "output_type": "stream",
     "text": [
      "Looking in indexes: https://pypi.org/simple, https://pypi.ngc.nvidia.com\n",
      "Collecting transformers\n",
      "  Downloading transformers-4.27.4-py3-none-any.whl (6.8 MB)\n",
      "\u001b[K     |████████████████████████████████| 6.8 MB 4.2 MB/s eta 0:00:01\n",
      "\u001b[?25hRequirement already satisfied: requests in /opt/conda/lib/python3.8/site-packages (from transformers) (2.27.1)\n",
      "Requirement already satisfied: pyyaml>=5.1 in /opt/conda/lib/python3.8/site-packages (from transformers) (6.0)\n",
      "Collecting tokenizers!=0.11.3,<0.14,>=0.11.1\n",
      "  Downloading tokenizers-0.13.3-cp38-cp38-manylinux_2_17_x86_64.manylinux2014_x86_64.whl (7.8 MB)\n",
      "\u001b[K     |████████████████████████████████| 7.8 MB 137.5 MB/s eta 0:00:01\n",
      "\u001b[?25hCollecting huggingface-hub<1.0,>=0.11.0\n",
      "  Downloading huggingface_hub-0.13.4-py3-none-any.whl (200 kB)\n",
      "\u001b[K     |████████████████████████████████| 200 kB 159.7 MB/s eta 0:00:01\n",
      "\u001b[?25hRequirement already satisfied: tqdm>=4.27 in /opt/conda/lib/python3.8/site-packages (from transformers) (4.64.0)\n",
      "Requirement already satisfied: numpy>=1.17 in /opt/conda/lib/python3.8/site-packages (from transformers) (1.22.3)\n",
      "Requirement already satisfied: filelock in /opt/conda/lib/python3.8/site-packages (from transformers) (3.6.0)\n",
      "Requirement already satisfied: packaging>=20.0 in /opt/conda/lib/python3.8/site-packages (from transformers) (21.3)\n",
      "Requirement already satisfied: regex!=2019.12.17 in /opt/conda/lib/python3.8/site-packages (from transformers) (2022.4.24)\n",
      "Requirement already satisfied: typing-extensions>=3.7.4.3 in /opt/conda/lib/python3.8/site-packages (from huggingface-hub<1.0,>=0.11.0->transformers) (4.2.0)\n",
      "Requirement already satisfied: pyparsing!=3.0.5,>=2.0.2 in /opt/conda/lib/python3.8/site-packages (from packaging>=20.0->transformers) (3.0.8)\n",
      "Requirement already satisfied: charset-normalizer~=2.0.0 in /opt/conda/lib/python3.8/site-packages (from requests->transformers) (2.0.12)\n",
      "Requirement already satisfied: urllib3<1.27,>=1.21.1 in /opt/conda/lib/python3.8/site-packages (from requests->transformers) (1.26.9)\n",
      "Requirement already satisfied: certifi>=2017.4.17 in /opt/conda/lib/python3.8/site-packages (from requests->transformers) (2021.10.8)\n",
      "Requirement already satisfied: idna<4,>=2.5 in /opt/conda/lib/python3.8/site-packages (from requests->transformers) (3.3)\n",
      "Installing collected packages: tokenizers, huggingface-hub, transformers\n",
      "Successfully installed huggingface-hub-0.13.4 tokenizers-0.13.3 transformers-4.27.4\n",
      "\u001b[33mWARNING: Running pip as the 'root' user can result in broken permissions and conflicting behaviour with the system package manager. It is recommended to use a virtual environment instead: https://pip.pypa.io/warnings/venv\u001b[0m\n"
     ]
    }
   ],
   "source": [
    "!pip install transformers"
   ]
  },
  {
   "cell_type": "code",
   "execution_count": 2,
   "id": "fb00f90c",
   "metadata": {},
   "outputs": [
    {
     "name": "stdout",
     "output_type": "stream",
     "text": [
      "Looking in indexes: https://pypi.org/simple, https://pypi.ngc.nvidia.com\n",
      "Collecting sentencepiece\n",
      "  Downloading sentencepiece-0.1.97-cp38-cp38-manylinux_2_17_x86_64.manylinux2014_x86_64.whl (1.3 MB)\n",
      "\u001b[K     |████████████████████████████████| 1.3 MB 2.8 MB/s eta 0:00:01\n",
      "\u001b[?25hInstalling collected packages: sentencepiece\n",
      "Successfully installed sentencepiece-0.1.97\n",
      "\u001b[33mWARNING: Running pip as the 'root' user can result in broken permissions and conflicting behaviour with the system package manager. It is recommended to use a virtual environment instead: https://pip.pypa.io/warnings/venv\u001b[0m\n"
     ]
    }
   ],
   "source": [
    "!pip install sentencepiece"
   ]
  },
  {
   "cell_type": "code",
   "execution_count": 17,
   "id": "f9c88ee0",
   "metadata": {},
   "outputs": [
    {
     "name": "stderr",
     "output_type": "stream",
     "text": [
      "[nltk_data] Downloading package stopwords to /root/nltk_data...\n",
      "[nltk_data]   Unzipping corpora/stopwords.zip.\n"
     ]
    }
   ],
   "source": [
    "import nltk\n",
    "nltk.download('stopwords')\n",
    "\n",
    "from nltk.corpus import stopwords\n",
    "s = set(stopwords.words('english'))"
   ]
  },
  {
   "cell_type": "code",
   "execution_count": 5,
   "id": "ba38ee2c",
   "metadata": {},
   "outputs": [
    {
     "name": "stderr",
     "output_type": "stream",
     "text": [
      "Downloading (…)okenizer_config.json: 100%|███| 25.0/25.0 [00:00<00:00, 4.36kB/s]\n",
      "Downloading (…)lve/main/config.json: 100%|██| 1.21k/1.21k [00:00<00:00, 338kB/s]\n",
      "Downloading (…)ve/main/spiece.model: 100%|███| 792k/792k [00:00<00:00, 13.1MB/s]\n",
      "Downloading (…)cial_tokens_map.json: 100%|█| 1.79k/1.79k [00:00<00:00, 1.08MB/s]\n",
      "/opt/conda/lib/python3.8/site-packages/transformers/models/auto/modeling_auto.py:1295: FutureWarning: The class `AutoModelWithLMHead` is deprecated and will be removed in a future version. Please use `AutoModelForCausalLM` for causal language models, `AutoModelForMaskedLM` for masked language models and `AutoModelForSeq2SeqLM` for encoder-decoder models.\n",
      "  warnings.warn(\n",
      "/opt/conda/lib/python3.8/site-packages/apex/pyprof/__init__.py:5: FutureWarning: pyprof will be removed by the end of June, 2022\n",
      "  warnings.warn(\"pyprof will be removed by the end of June, 2022\", FutureWarning)\n",
      "Downloading pytorch_model.bin: 100%|█████████| 892M/892M [00:25<00:00, 35.6MB/s]\n",
      "/opt/conda/lib/python3.8/site-packages/torch/nn/modules/module.py:1402: UserWarning: positional arguments and argument \"destination\" are deprecated. nn.Module.state_dict will not accept them in the future. Refer to https://pytorch.org/docs/master/generated/torch.nn.Module.html#torch.nn.Module.state_dict for details.\n",
      "  warnings.warn(\n"
     ]
    }
   ],
   "source": [
    "from transformers import AutoTokenizer, AutoModelWithLMHead\n",
    "\n",
    "tokenizer = AutoTokenizer.from_pretrained(\"mrm8488/t5-base-finetuned-emotion\")\n",
    "\n",
    "model = AutoModelWithLMHead.from_pretrained(\"mrm8488/t5-base-finetuned-emotion\")"
   ]
  },
  {
   "cell_type": "code",
   "execution_count": 6,
   "id": "8287c699",
   "metadata": {},
   "outputs": [
    {
     "data": {
      "text/plain": [
       "'<pad> fear'"
      ]
     },
     "execution_count": 6,
     "metadata": {},
     "output_type": "execute_result"
    }
   ],
   "source": [
    "def get_emotion(text):\n",
    "    input_ids = tokenizer.encode(str(text) + '</s>', return_tensors='pt')\n",
    "    output = model.generate(input_ids=input_ids,\n",
    "               max_length=2)\n",
    "    dec = [tokenizer.decode(ids) for ids in output]\n",
    "    label = dec[0]\n",
    "    return label\n",
    "get_emotion(\"Research trips with founder through Asia and Chief Investment Officer/CEO through Europe during\\xa0\\xa0 the Asian Financial crisis\") # Output: 'joy'\n"
   ]
  },
  {
   "cell_type": "code",
   "execution_count": 7,
   "id": "30c6291d",
   "metadata": {},
   "outputs": [],
   "source": [
    "file_path = []\n",
    "file_name = []\n",
    "home_path = '/workspace/deerproject2/Data/Json/'\n",
    "label = []\n",
    "classification = ['Good','Bad','Inter']\n",
    "for c in classification:\n",
    "    path1 = home_path + c \n",
    "    filename = os.listdir(path1)\n",
    "    for name in filename:\n",
    "        if name != '.ipynb_checkpoints':\n",
    "            file_path.append(path1 + '/' + name)\n",
    "\n",
    "            if c == 'Good':\n",
    "                label.append(2)\n",
    "            elif c == 'Inter':\n",
    "                label.append(1)\n",
    "            elif c == 'Bad':\n",
    "                label.append(0)\n",
    "            file_name.append(name)"
   ]
  },
  {
   "cell_type": "code",
   "execution_count": 13,
   "id": "4223c64b",
   "metadata": {},
   "outputs": [],
   "source": [
    "sentence_fear = ''\n",
    "sentence_joy = ''\n",
    "final = []\n",
    "for file in file_path:\n",
    "    try:\n",
    "        with open(file) as f:\n",
    "            data = json.load(f)\n",
    "    except:\n",
    "        final.append({'joy':0,'fear':0,'sadness':0,'anger':0,'love':0,'surprise':0})\n",
    "        continue\n",
    "    document = {'joy':0,'fear':0,'sadness':0,'anger':0,'love':0,'surprise':0}\n",
    "    count = 0\n",
    "    for item in data:\n",
    "        count += 1\n",
    "        try:\n",
    "            text = list(item.values())[0]\n",
    "        except:\n",
    "            continue\n",
    "        result = get_emotion(text)[6:]\n",
    "        if result in list(document.keys()):\n",
    "            document[result] += 1\n",
    "        if result == 'fear':\n",
    "            sentence_fear += str(text)\n",
    "        elif result == 'joy':\n",
    "            sentence_joy += str(text)\n",
    "            \n",
    "    r = {}\n",
    "    for key in document:\n",
    "        r[key] = document[key]/count\n",
    "    final.append(r)\n",
    "    "
   ]
  },
  {
   "cell_type": "code",
   "execution_count": null,
   "id": "5828c3e8",
   "metadata": {},
   "outputs": [],
   "source": [
    "for word in new_doc:\n",
    "            if not bool(re.search(r'\\d', word)) and (word not in string.punctuation) and word.isalpha():\n",
    "                word = word.lower()\n",
    "                try:\n",
    "                    frequency[c][word] += 1\n",
    "                except:\n",
    "                    frequency[c][word] = 1\n",
    "            new_d[c].append(new_doc)"
   ]
  },
  {
   "cell_type": "code",
   "execution_count": 15,
   "id": "18e09415",
   "metadata": {},
   "outputs": [],
   "source": [
    "# split the words\n",
    "words_fear = sentence_fear.split()\n",
    "words_joy = sentence_joy.split()"
   ]
  },
  {
   "cell_type": "code",
   "execution_count": 29,
   "id": "f6e8e1a0",
   "metadata": {},
   "outputs": [],
   "source": [
    "frequency = {'fear':{},'joy':{}}\n",
    "for word in words_fear:\n",
    "    if not bool(re.search(r'\\d', word)) and (word not in string.punctuation) and word.isalpha() and word not in s:\n",
    "        word = word.lower()\n",
    "        try:\n",
    "            frequency['fear'][word] += 1\n",
    "        except:\n",
    "            frequency['fear'][word] = 1\n",
    "\n",
    "for word in words_joy:\n",
    "    if not bool(re.search(r'\\d', word)) and (word not in string.punctuation) and word.isalpha() and word not in s:\n",
    "        word = word.lower()\n",
    "        try:\n",
    "            frequency['joy'][word] += 1\n",
    "        except:\n",
    "            frequency['joy'][word] = 1"
   ]
  },
  {
   "cell_type": "code",
   "execution_count": 44,
   "id": "f5e8ba90",
   "metadata": {},
   "outputs": [],
   "source": [
    "l = {'fear':len(sentence_fear),'joy':len(sentence_joy)}"
   ]
  },
  {
   "cell_type": "code",
   "execution_count": 45,
   "id": "2868cbe0",
   "metadata": {},
   "outputs": [
    {
     "data": {
      "image/png": "[encoded data removed]",
      "text/plain": [
       "<Figure size 1800x360 with 1 Axes>"
      ]
     },
     "metadata": {
      "needs_background": "light"
     },
     "output_type": "display_data"
    },
    {
     "data": {
      "image/png": "[encoded data removed]",
      "text/plain": [
       "<Figure size 1800x360 with 1 Axes>"
      ]
     },
     "metadata": {
      "needs_background": "light"
     },
     "output_type": "display_data"
    }
   ],
   "source": [
    "for c in ['fear','joy']:\n",
    "    d = sorted(frequency[c].items(), key=lambda item: item[1],reverse = True)\n",
    "    plt.figure(figsize = (25,5))\n",
    "\n",
    "    for i in range(20):\n",
    "        plt.bar(d[i][0],d[i][1]/l[c])\n",
    "    plt.title(c + ' Performance Words Frequency')\n",
    "    plt.ylabel('Frequency')\n",
    "    plt.xlabel('Words')\n",
    "    plt.show()"
   ]
  },
  {
   "cell_type": "code",
   "execution_count": 49,
   "id": "7e877cd1",
   "metadata": {},
   "outputs": [],
   "source": [
    "final_result = {}\n",
    "for i in frequency['fear']:\n",
    "    if i in frequency['joy']:\n",
    "        final_result[i] = (frequency['fear'][i]/l['fear'])/(frequency['joy'][i]/l['joy'])"
   ]
  },
  {
   "cell_type": "code",
   "execution_count": 52,
   "id": "b80fd476",
   "metadata": {},
   "outputs": [
    {
     "data": {
      "image/png": "[encoded data removed]",
      "text/plain": [
       "<Figure size 1800x360 with 1 Axes>"
      ]
     },
     "metadata": {
      "needs_background": "light"
     },
     "output_type": "display_data"
    }
   ],
   "source": [
    "d = sorted(final_result.items(), key=lambda item: item[1],reverse = True)\n",
    "plt.figure(figsize = (25,5))\n",
    "\n",
    "for i in range(30):\n",
    "    plt.bar(d[i][0],d[i][1])\n",
    "plt.title(' Performance Words Frequency')\n",
    "plt.ylabel('Frequency')\n",
    "plt.xlabel('Words')\n",
    "plt.show()"
   ]
  },
  {
   "cell_type": "code",
   "execution_count": null,
   "id": "638e2a03",
   "metadata": {},
   "outputs": [],
   "source": []
  }
 ],
 "metadata": {
  "kernelspec": {
   "display_name": "Python 3 (ipykernel)",
   "language": "python",
   "name": "python3"
  },
  "language_info": {
   "codemirror_mode": {
    "name": "ipython",
    "version": 3
   },
   "file_extension": ".py",
   "mimetype": "text/x-python",
   "name": "python",
   "nbconvert_exporter": "python",
   "pygments_lexer": "ipython3",
   "version": "3.8.13"
  }
 },
 "nbformat": 4,
 "nbformat_minor": 5
}
